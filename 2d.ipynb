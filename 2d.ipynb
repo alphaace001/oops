{
 "cells": [
  {
   "cell_type": "code",
   "execution_count": 15,
   "metadata": {},
   "outputs": [],
   "source": [
    "from math import sqrt\n",
    "\n",
    "\n",
    "class coordinates:\n",
    "    \n",
    "    def __init__(self,x,y):\n",
    "        self.x_cor=x\n",
    "        self.y_cor=y\n",
    "        \n",
    "    def __str__(self):\n",
    "        return '<{},{}>'.format(self.x_cor,self.y_cor)\n",
    "    \n",
    "    def distance(self,other):\n",
    "        return sqrt((self.x_cor-other.x_cor)**2 + (self.y_cor-other.y_cor)**2 )\n",
    "    \n",
    "    def dist_org(self):\n",
    "        return sqrt((self.x_cor)**2 + (self.y_cor)**2 )\n",
    "    \n",
    "    \n",
    "class line:\n",
    "    \n",
    "    def __init__(self,A,B,C):\n",
    "        self.a=A\n",
    "        self.b=B\n",
    "        self.c=C\n",
    "    \n",
    "    def __str__(self):\n",
    "        return '{}x+{}y+{}'.format(self.a,self.b,self.c)\n",
    "    \n",
    "    def point_on_line(line,point):\n",
    "        if line.a*point.x_cor + line.b*point.y_cor + line.c == 0:\n",
    "            return \"Satisfies the line\"\n",
    "        \n",
    "        else:\n",
    "            return \"Doesn't Satisfy the line\"\n",
    "        \n",
    "    def shortest_dist(line,point):\n",
    "        return abs((line.a*point.x_cor + line.b*point.y_cor + line.c)/(sqrt(line.a**2+line.b**2)))"
   ]
  },
  {
   "cell_type": "code",
   "execution_count": 17,
   "metadata": {},
   "outputs": [
    {
     "data": {
      "text/plain": [
       "(0.0, 0.0)"
      ]
     },
     "execution_count": 17,
     "metadata": {},
     "output_type": "execute_result"
    }
   ],
   "source": [
    "l1 = line(1,1,-2)\n",
    "p2 = coordinates(1,1)\n",
    "l1.shortest_dist(p2)"
   ]
  },
  {
   "cell_type": "code",
   "execution_count": null,
   "metadata": {},
   "outputs": [],
   "source": []
  }
 ],
 "metadata": {
  "kernelspec": {
   "display_name": "oopsenv",
   "language": "python",
   "name": "python3"
  },
  "language_info": {
   "codemirror_mode": {
    "name": "ipython",
    "version": 3
   },
   "file_extension": ".py",
   "mimetype": "text/x-python",
   "name": "python",
   "nbconvert_exporter": "python",
   "pygments_lexer": "ipython3",
   "version": "3.10.6"
  }
 },
 "nbformat": 4,
 "nbformat_minor": 2
}
